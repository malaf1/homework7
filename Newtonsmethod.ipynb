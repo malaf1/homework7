{
 "cells": [
  {
   "cell_type": "markdown",
   "metadata": {},
   "source": [
    "# Notebook for Assignment 7 , Question 1"
   ]
  },
  {
   "cell_type": "code",
   "execution_count": 1,
   "metadata": {},
   "outputs": [],
   "source": [
    "using InstantiateFromURL\n",
    "activate_github(\"QuantEcon/QuantEconLecturePackages\", tag=\"v0.3.1\");"
   ]
  },
  {
   "cell_type": "code",
   "execution_count": 2,
   "metadata": {},
   "outputs": [
    {
     "data": {
      "text/plain": [
       "fixedpointmap (generic function with 1 method)"
      ]
     },
     "execution_count": 2,
     "metadata": {},
     "output_type": "execute_result"
    }
   ],
   "source": [
    "using LinearAlgebra\n",
    "function fixedpointmap(f, f_prime, x_0, tolerance, maxiter)\n",
    "    normdiff = Inf\n",
    "    iter = 1\n",
    "    while normdiff > tolerance && iter <= maxiter\n",
    "        x_new =x_0 - (f(x_0)/f_prime(x_0)) \n",
    "        normdiff = norm(x_new - x_0)\n",
    "        x_0 = x_new\n",
    "        iter = iter + 1\n",
    "    end\n",
    "    return (x_0, normdiff, iter)\n",
    "end"
   ]
  },
  {
   "cell_type": "code",
   "execution_count": 3,
   "metadata": {},
   "outputs": [
    {
     "name": "stdout",
     "output_type": "stream",
     "text": [
      "Fixed point = 0.999999847386336, and |f(x) - x| = 7.63068319642457e-8 in 38 iterations\n"
     ]
    }
   ],
   "source": [
    "f(x)= (x-1)^3\n",
    "f_prime(x)= 3*(x-1)^2\n",
    "\n",
    "maxiter = 1000\n",
    "tolerance = 1.0E-7\n",
    "x_0 = 0.5\n",
    "\n",
    "v_star, normdiff, iter = fixedpointmap(f, f_prime, x_0, tolerance, maxiter)\n",
    "println(\"Fixed point = $v_star, and |f(x) - x| = $normdiff in $iter iterations\")"
   ]
  },
  {
   "cell_type": "code",
   "execution_count": 4,
   "metadata": {},
   "outputs": [
    {
     "name": "stdout",
     "output_type": "stream",
     "text": [
      "Fixed point = 5.960464477539063e-8, and |f(x) - x| = 5.960464477539063e-8 in 24 iterations\n"
     ]
    }
   ],
   "source": [
    "f(x)= (x)^2\n",
    "f_prime(x)= 2*x\n",
    "\n",
    "maxiter = 1000\n",
    "tolerance = 1.0E-7\n",
    "x_0 = 0.5\n",
    "\n",
    "v_star, normdiff, iter = fixedpointmap(f, f_prime, x_0, tolerance, maxiter)\n",
    "println(\"Fixed point = $v_star, and |f(x) - x| = $normdiff in $iter iterations\")"
   ]
  },
  {
   "cell_type": "code",
   "execution_count": null,
   "metadata": {},
   "outputs": [],
   "source": []
  }
 ],
 "metadata": {
  "kernelspec": {
   "display_name": "Julia 1.0.1",
   "language": "julia",
   "name": "julia-1.0"
  },
  "language_info": {
   "file_extension": ".jl",
   "mimetype": "application/julia",
   "name": "julia",
   "version": "1.0.1"
  }
 },
 "nbformat": 4,
 "nbformat_minor": 2
}
